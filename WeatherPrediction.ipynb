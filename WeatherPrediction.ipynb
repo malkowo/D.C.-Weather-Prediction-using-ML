{
 "cells": [
  {
   "cell_type": "code",
   "execution_count": 1,
   "id": "83f08750-c44d-4dac-a5a6-2abc0ebaa702",
   "metadata": {},
   "outputs": [],
   "source": [
    "import pandas as pd\n",
    "df = pd.read_csv(r'/Users/tomaszbicki/Desktop/dulles_airport.csv', index_col = 'DATE')"
   ]
  },
  {
   "cell_type": "code",
   "execution_count": 2,
   "id": "35af69d8-37ba-43df-aa78-796b1d7334a0",
   "metadata": {},
   "outputs": [
    {
     "name": "stdout",
     "output_type": "stream",
     "text": [
      "<class 'pandas.core.frame.DataFrame'>\n",
      "Index: 22554 entries, 1960-04-01 to 2023-06-17\n",
      "Data columns (total 46 columns):\n",
      " #   Column   Non-Null Count  Dtype  \n",
      "---  ------   --------------  -----  \n",
      " 0   STATION  22554 non-null  object \n",
      " 1   NAME     22554 non-null  object \n",
      " 2   ACMH     11436 non-null  float64\n",
      " 3   ACSH     11439 non-null  float64\n",
      " 4   AWND     14407 non-null  float64\n",
      " 5   FMTM     10105 non-null  float64\n",
      " 6   FRGT     1 non-null      float64\n",
      " 7   PGTM     16793 non-null  float64\n",
      " 8   PRCP     22447 non-null  float64\n",
      " 9   PSUN     2 non-null      float64\n",
      " 10  SNOW     22499 non-null  float64\n",
      " 11  SNWD     22457 non-null  float64\n",
      " 12  TAVG     6397 non-null   float64\n",
      " 13  TMAX     22510 non-null  float64\n",
      " 14  TMIN     22508 non-null  float64\n",
      " 15  TSUN     957 non-null    float64\n",
      " 16  WDF1     11436 non-null  float64\n",
      " 17  WDF2     9902 non-null   float64\n",
      " 18  WDF5     9839 non-null   float64\n",
      " 19  WDFG     12029 non-null  float64\n",
      " 20  WESD     6266 non-null   float64\n",
      " 21  WSF1     11437 non-null  float64\n",
      " 22  WSF2     9902 non-null   float64\n",
      " 23  WSF5     9840 non-null   float64\n",
      " 24  WSFG     12029 non-null  float64\n",
      " 25  WT01     10180 non-null  float64\n",
      " 26  WT02     1420 non-null   float64\n",
      " 27  WT03     1843 non-null   float64\n",
      " 28  WT04     399 non-null    float64\n",
      " 29  WT05     397 non-null    float64\n",
      " 30  WT06     306 non-null    float64\n",
      " 31  WT07     112 non-null    float64\n",
      " 32  WT08     4917 non-null   float64\n",
      " 33  WT09     88 non-null     float64\n",
      " 34  WT10     3 non-null      float64\n",
      " 35  WT11     23 non-null     float64\n",
      " 36  WT13     2780 non-null   float64\n",
      " 37  WT14     866 non-null    float64\n",
      " 38  WT15     66 non-null     float64\n",
      " 39  WT16     7487 non-null   float64\n",
      " 40  WT17     106 non-null    float64\n",
      " 41  WT18     1147 non-null   float64\n",
      " 42  WT19     13 non-null     float64\n",
      " 43  WT21     185 non-null    float64\n",
      " 44  WT22     63 non-null     float64\n",
      " 45  WV03     66 non-null     float64\n",
      "dtypes: float64(44), object(2)\n",
      "memory usage: 8.1+ MB\n"
     ]
    }
   ],
   "source": [
    "df.info()"
   ]
  },
  {
   "cell_type": "code",
   "execution_count": 4,
   "id": "b4f8e13c-41b3-4eba-9f1a-682a4810b9e3",
   "metadata": {},
   "outputs": [],
   "source": [
    "#I took the most important factors to predict future temperature\n",
    "weather = df[['PRCP', 'TMIN', 'TMAX']]"
   ]
  },
  {
   "cell_type": "code",
   "execution_count": 5,
   "id": "435c1dff-e87e-40de-8801-7453610b2a18",
   "metadata": {},
   "outputs": [
    {
     "data": {
      "text/plain": [
       "PRCP    107\n",
       "TMIN     46\n",
       "TMAX     44\n",
       "dtype: int64"
      ]
     },
     "execution_count": 5,
     "metadata": {},
     "output_type": "execute_result"
    }
   ],
   "source": [
    "#I am checking if there are any null values\n",
    "weather.apply(pd.isnull).sum()"
   ]
  },
  {
   "cell_type": "code",
   "execution_count": 7,
   "id": "5f80b613-7445-4562-8028-47fbd5a8f93e",
   "metadata": {},
   "outputs": [
    {
     "data": {
      "text/plain": [
       "0.00    15222\n",
       "0.01      741\n",
       "0.02      452\n",
       "0.03      342\n",
       "0.04      292\n",
       "        ...  \n",
       "2.61        1\n",
       "2.11        1\n",
       "2.13        1\n",
       "3.56        1\n",
       "2.18        1\n",
       "Name: PRCP, Length: 277, dtype: int64"
      ]
     },
     "execution_count": 7,
     "metadata": {},
     "output_type": "execute_result"
    }
   ],
   "source": [
    "weather['PRCP'].value_counts()"
   ]
  },
  {
   "cell_type": "code",
   "execution_count": 8,
   "id": "5aa07dc9-38ce-453c-bac5-e61bcbbe2060",
   "metadata": {},
   "outputs": [
    {
     "name": "stderr",
     "output_type": "stream",
     "text": [
      "/var/folders/64/zx4w1pln7vz714j01w361nhm0000gn/T/ipykernel_6264/1948410435.py:2: SettingWithCopyWarning: \n",
      "A value is trying to be set on a copy of a slice from a DataFrame.\n",
      "Try using .loc[row_indexer,col_indexer] = value instead\n",
      "\n",
      "See the caveats in the documentation: https://pandas.pydata.org/pandas-docs/stable/user_guide/indexing.html#returning-a-view-versus-a-copy\n",
      "  weather['PRCP'] = weather['PRCP'].fillna(0)\n"
     ]
    }
   ],
   "source": [
    "#Because most of values in 'PRCP' column are '0' i am filling null values with '0'\n",
    "weather['PRCP'] = weather['PRCP'].fillna(0)"
   ]
  },
  {
   "cell_type": "code",
   "execution_count": 9,
   "id": "3ef98eee-fcd1-4a92-b21f-67f5211e5dd0",
   "metadata": {},
   "outputs": [
    {
     "data": {
      "text/plain": [
       "PRCP     0\n",
       "TMIN    46\n",
       "TMAX    44\n",
       "dtype: int64"
      ]
     },
     "execution_count": 9,
     "metadata": {},
     "output_type": "execute_result"
    }
   ],
   "source": [
    "weather.apply(pd.isnull).sum()"
   ]
  },
  {
   "cell_type": "code",
   "execution_count": 10,
   "id": "9f4ee7b8-5dc9-4861-bd0f-5c22db1f13e8",
   "metadata": {},
   "outputs": [
    {
     "data": {
      "text/html": [
       "<div>\n",
       "<style scoped>\n",
       "    .dataframe tbody tr th:only-of-type {\n",
       "        vertical-align: middle;\n",
       "    }\n",
       "\n",
       "    .dataframe tbody tr th {\n",
       "        vertical-align: top;\n",
       "    }\n",
       "\n",
       "    .dataframe thead th {\n",
       "        text-align: right;\n",
       "    }\n",
       "</style>\n",
       "<table border=\"1\" class=\"dataframe\">\n",
       "  <thead>\n",
       "    <tr style=\"text-align: right;\">\n",
       "      <th></th>\n",
       "      <th>PRCP</th>\n",
       "      <th>TMIN</th>\n",
       "      <th>TMAX</th>\n",
       "    </tr>\n",
       "    <tr>\n",
       "      <th>DATE</th>\n",
       "      <th></th>\n",
       "      <th></th>\n",
       "      <th></th>\n",
       "    </tr>\n",
       "  </thead>\n",
       "  <tbody>\n",
       "    <tr>\n",
       "      <th>1960-04-02</th>\n",
       "      <td>1.36</td>\n",
       "      <td>NaN</td>\n",
       "      <td>NaN</td>\n",
       "    </tr>\n",
       "    <tr>\n",
       "      <th>1960-04-03</th>\n",
       "      <td>0.00</td>\n",
       "      <td>NaN</td>\n",
       "      <td>NaN</td>\n",
       "    </tr>\n",
       "    <tr>\n",
       "      <th>1960-04-04</th>\n",
       "      <td>0.00</td>\n",
       "      <td>NaN</td>\n",
       "      <td>70.0</td>\n",
       "    </tr>\n",
       "    <tr>\n",
       "      <th>1960-04-09</th>\n",
       "      <td>0.00</td>\n",
       "      <td>NaN</td>\n",
       "      <td>NaN</td>\n",
       "    </tr>\n",
       "    <tr>\n",
       "      <th>1960-04-10</th>\n",
       "      <td>0.00</td>\n",
       "      <td>NaN</td>\n",
       "      <td>NaN</td>\n",
       "    </tr>\n",
       "    <tr>\n",
       "      <th>1960-04-16</th>\n",
       "      <td>0.00</td>\n",
       "      <td>NaN</td>\n",
       "      <td>NaN</td>\n",
       "    </tr>\n",
       "    <tr>\n",
       "      <th>1960-04-17</th>\n",
       "      <td>0.00</td>\n",
       "      <td>NaN</td>\n",
       "      <td>NaN</td>\n",
       "    </tr>\n",
       "    <tr>\n",
       "      <th>1960-04-22</th>\n",
       "      <td>0.00</td>\n",
       "      <td>NaN</td>\n",
       "      <td>NaN</td>\n",
       "    </tr>\n",
       "    <tr>\n",
       "      <th>1960-04-23</th>\n",
       "      <td>0.00</td>\n",
       "      <td>NaN</td>\n",
       "      <td>NaN</td>\n",
       "    </tr>\n",
       "    <tr>\n",
       "      <th>1960-04-24</th>\n",
       "      <td>0.00</td>\n",
       "      <td>NaN</td>\n",
       "      <td>NaN</td>\n",
       "    </tr>\n",
       "    <tr>\n",
       "      <th>1960-04-30</th>\n",
       "      <td>0.26</td>\n",
       "      <td>NaN</td>\n",
       "      <td>NaN</td>\n",
       "    </tr>\n",
       "    <tr>\n",
       "      <th>1960-05-01</th>\n",
       "      <td>0.00</td>\n",
       "      <td>NaN</td>\n",
       "      <td>NaN</td>\n",
       "    </tr>\n",
       "    <tr>\n",
       "      <th>1960-05-07</th>\n",
       "      <td>0.00</td>\n",
       "      <td>NaN</td>\n",
       "      <td>NaN</td>\n",
       "    </tr>\n",
       "    <tr>\n",
       "      <th>1960-05-14</th>\n",
       "      <td>0.00</td>\n",
       "      <td>NaN</td>\n",
       "      <td>NaN</td>\n",
       "    </tr>\n",
       "    <tr>\n",
       "      <th>1960-05-15</th>\n",
       "      <td>0.00</td>\n",
       "      <td>NaN</td>\n",
       "      <td>NaN</td>\n",
       "    </tr>\n",
       "    <tr>\n",
       "      <th>1960-05-20</th>\n",
       "      <td>0.00</td>\n",
       "      <td>NaN</td>\n",
       "      <td>NaN</td>\n",
       "    </tr>\n",
       "    <tr>\n",
       "      <th>1960-05-21</th>\n",
       "      <td>0.00</td>\n",
       "      <td>NaN</td>\n",
       "      <td>NaN</td>\n",
       "    </tr>\n",
       "    <tr>\n",
       "      <th>1960-05-22</th>\n",
       "      <td>0.00</td>\n",
       "      <td>NaN</td>\n",
       "      <td>NaN</td>\n",
       "    </tr>\n",
       "    <tr>\n",
       "      <th>1960-05-28</th>\n",
       "      <td>0.00</td>\n",
       "      <td>NaN</td>\n",
       "      <td>NaN</td>\n",
       "    </tr>\n",
       "    <tr>\n",
       "      <th>1960-05-29</th>\n",
       "      <td>0.00</td>\n",
       "      <td>NaN</td>\n",
       "      <td>NaN</td>\n",
       "    </tr>\n",
       "    <tr>\n",
       "      <th>1960-05-30</th>\n",
       "      <td>2.65</td>\n",
       "      <td>NaN</td>\n",
       "      <td>NaN</td>\n",
       "    </tr>\n",
       "    <tr>\n",
       "      <th>1960-06-04</th>\n",
       "      <td>0.00</td>\n",
       "      <td>NaN</td>\n",
       "      <td>NaN</td>\n",
       "    </tr>\n",
       "    <tr>\n",
       "      <th>1960-06-05</th>\n",
       "      <td>0.00</td>\n",
       "      <td>NaN</td>\n",
       "      <td>NaN</td>\n",
       "    </tr>\n",
       "    <tr>\n",
       "      <th>1960-06-11</th>\n",
       "      <td>0.00</td>\n",
       "      <td>NaN</td>\n",
       "      <td>NaN</td>\n",
       "    </tr>\n",
       "    <tr>\n",
       "      <th>1960-06-12</th>\n",
       "      <td>0.00</td>\n",
       "      <td>NaN</td>\n",
       "      <td>NaN</td>\n",
       "    </tr>\n",
       "    <tr>\n",
       "      <th>1960-06-13</th>\n",
       "      <td>0.05</td>\n",
       "      <td>NaN</td>\n",
       "      <td>84.0</td>\n",
       "    </tr>\n",
       "    <tr>\n",
       "      <th>1960-06-18</th>\n",
       "      <td>0.00</td>\n",
       "      <td>NaN</td>\n",
       "      <td>NaN</td>\n",
       "    </tr>\n",
       "    <tr>\n",
       "      <th>1960-06-19</th>\n",
       "      <td>0.00</td>\n",
       "      <td>NaN</td>\n",
       "      <td>NaN</td>\n",
       "    </tr>\n",
       "    <tr>\n",
       "      <th>1960-06-25</th>\n",
       "      <td>0.00</td>\n",
       "      <td>NaN</td>\n",
       "      <td>NaN</td>\n",
       "    </tr>\n",
       "    <tr>\n",
       "      <th>1960-06-26</th>\n",
       "      <td>0.00</td>\n",
       "      <td>NaN</td>\n",
       "      <td>NaN</td>\n",
       "    </tr>\n",
       "    <tr>\n",
       "      <th>1960-07-01</th>\n",
       "      <td>0.00</td>\n",
       "      <td>NaN</td>\n",
       "      <td>NaN</td>\n",
       "    </tr>\n",
       "    <tr>\n",
       "      <th>1960-07-02</th>\n",
       "      <td>0.00</td>\n",
       "      <td>NaN</td>\n",
       "      <td>NaN</td>\n",
       "    </tr>\n",
       "    <tr>\n",
       "      <th>1960-07-03</th>\n",
       "      <td>0.00</td>\n",
       "      <td>NaN</td>\n",
       "      <td>NaN</td>\n",
       "    </tr>\n",
       "    <tr>\n",
       "      <th>1960-07-04</th>\n",
       "      <td>0.00</td>\n",
       "      <td>NaN</td>\n",
       "      <td>NaN</td>\n",
       "    </tr>\n",
       "    <tr>\n",
       "      <th>1960-07-09</th>\n",
       "      <td>0.00</td>\n",
       "      <td>NaN</td>\n",
       "      <td>NaN</td>\n",
       "    </tr>\n",
       "    <tr>\n",
       "      <th>1960-07-10</th>\n",
       "      <td>0.00</td>\n",
       "      <td>NaN</td>\n",
       "      <td>NaN</td>\n",
       "    </tr>\n",
       "    <tr>\n",
       "      <th>1960-07-16</th>\n",
       "      <td>0.00</td>\n",
       "      <td>NaN</td>\n",
       "      <td>NaN</td>\n",
       "    </tr>\n",
       "    <tr>\n",
       "      <th>1960-07-17</th>\n",
       "      <td>0.00</td>\n",
       "      <td>NaN</td>\n",
       "      <td>NaN</td>\n",
       "    </tr>\n",
       "    <tr>\n",
       "      <th>1960-07-18</th>\n",
       "      <td>0.00</td>\n",
       "      <td>NaN</td>\n",
       "      <td>NaN</td>\n",
       "    </tr>\n",
       "    <tr>\n",
       "      <th>1960-07-20</th>\n",
       "      <td>0.00</td>\n",
       "      <td>NaN</td>\n",
       "      <td>NaN</td>\n",
       "    </tr>\n",
       "    <tr>\n",
       "      <th>1960-07-21</th>\n",
       "      <td>0.00</td>\n",
       "      <td>NaN</td>\n",
       "      <td>NaN</td>\n",
       "    </tr>\n",
       "    <tr>\n",
       "      <th>1960-07-23</th>\n",
       "      <td>0.00</td>\n",
       "      <td>NaN</td>\n",
       "      <td>NaN</td>\n",
       "    </tr>\n",
       "    <tr>\n",
       "      <th>1960-07-24</th>\n",
       "      <td>0.00</td>\n",
       "      <td>NaN</td>\n",
       "      <td>NaN</td>\n",
       "    </tr>\n",
       "    <tr>\n",
       "      <th>1960-07-30</th>\n",
       "      <td>0.00</td>\n",
       "      <td>NaN</td>\n",
       "      <td>NaN</td>\n",
       "    </tr>\n",
       "    <tr>\n",
       "      <th>1960-07-31</th>\n",
       "      <td>0.00</td>\n",
       "      <td>NaN</td>\n",
       "      <td>NaN</td>\n",
       "    </tr>\n",
       "    <tr>\n",
       "      <th>1962-04-29</th>\n",
       "      <td>0.00</td>\n",
       "      <td>NaN</td>\n",
       "      <td>85.0</td>\n",
       "    </tr>\n",
       "  </tbody>\n",
       "</table>\n",
       "</div>"
      ],
      "text/plain": [
       "            PRCP  TMIN  TMAX\n",
       "DATE                        \n",
       "1960-04-02  1.36   NaN   NaN\n",
       "1960-04-03  0.00   NaN   NaN\n",
       "1960-04-04  0.00   NaN  70.0\n",
       "1960-04-09  0.00   NaN   NaN\n",
       "1960-04-10  0.00   NaN   NaN\n",
       "1960-04-16  0.00   NaN   NaN\n",
       "1960-04-17  0.00   NaN   NaN\n",
       "1960-04-22  0.00   NaN   NaN\n",
       "1960-04-23  0.00   NaN   NaN\n",
       "1960-04-24  0.00   NaN   NaN\n",
       "1960-04-30  0.26   NaN   NaN\n",
       "1960-05-01  0.00   NaN   NaN\n",
       "1960-05-07  0.00   NaN   NaN\n",
       "1960-05-14  0.00   NaN   NaN\n",
       "1960-05-15  0.00   NaN   NaN\n",
       "1960-05-20  0.00   NaN   NaN\n",
       "1960-05-21  0.00   NaN   NaN\n",
       "1960-05-22  0.00   NaN   NaN\n",
       "1960-05-28  0.00   NaN   NaN\n",
       "1960-05-29  0.00   NaN   NaN\n",
       "1960-05-30  2.65   NaN   NaN\n",
       "1960-06-04  0.00   NaN   NaN\n",
       "1960-06-05  0.00   NaN   NaN\n",
       "1960-06-11  0.00   NaN   NaN\n",
       "1960-06-12  0.00   NaN   NaN\n",
       "1960-06-13  0.05   NaN  84.0\n",
       "1960-06-18  0.00   NaN   NaN\n",
       "1960-06-19  0.00   NaN   NaN\n",
       "1960-06-25  0.00   NaN   NaN\n",
       "1960-06-26  0.00   NaN   NaN\n",
       "1960-07-01  0.00   NaN   NaN\n",
       "1960-07-02  0.00   NaN   NaN\n",
       "1960-07-03  0.00   NaN   NaN\n",
       "1960-07-04  0.00   NaN   NaN\n",
       "1960-07-09  0.00   NaN   NaN\n",
       "1960-07-10  0.00   NaN   NaN\n",
       "1960-07-16  0.00   NaN   NaN\n",
       "1960-07-17  0.00   NaN   NaN\n",
       "1960-07-18  0.00   NaN   NaN\n",
       "1960-07-20  0.00   NaN   NaN\n",
       "1960-07-21  0.00   NaN   NaN\n",
       "1960-07-23  0.00   NaN   NaN\n",
       "1960-07-24  0.00   NaN   NaN\n",
       "1960-07-30  0.00   NaN   NaN\n",
       "1960-07-31  0.00   NaN   NaN\n",
       "1962-04-29  0.00   NaN  85.0"
      ]
     },
     "execution_count": 10,
     "metadata": {},
     "output_type": "execute_result"
    }
   ],
   "source": [
    "#I am checking in which periods of time there are missing values in 'TMIN' column\n",
    "weather[(pd.isnull(weather['TMIN']))]"
   ]
  },
  {
   "cell_type": "code",
   "execution_count": 11,
   "id": "ff0dbd73-862d-4217-b7d2-29c0e199195f",
   "metadata": {},
   "outputs": [
    {
     "data": {
      "text/html": [
       "<div>\n",
       "<style scoped>\n",
       "    .dataframe tbody tr th:only-of-type {\n",
       "        vertical-align: middle;\n",
       "    }\n",
       "\n",
       "    .dataframe tbody tr th {\n",
       "        vertical-align: top;\n",
       "    }\n",
       "\n",
       "    .dataframe thead th {\n",
       "        text-align: right;\n",
       "    }\n",
       "</style>\n",
       "<table border=\"1\" class=\"dataframe\">\n",
       "  <thead>\n",
       "    <tr style=\"text-align: right;\">\n",
       "      <th></th>\n",
       "      <th>PRCP</th>\n",
       "      <th>TMIN</th>\n",
       "      <th>TMAX</th>\n",
       "    </tr>\n",
       "    <tr>\n",
       "      <th>DATE</th>\n",
       "      <th></th>\n",
       "      <th></th>\n",
       "      <th></th>\n",
       "    </tr>\n",
       "  </thead>\n",
       "  <tbody>\n",
       "    <tr>\n",
       "      <th>1960-04-15</th>\n",
       "      <td>0.0</td>\n",
       "      <td>53.0</td>\n",
       "      <td>86.0</td>\n",
       "    </tr>\n",
       "    <tr>\n",
       "      <th>1960-04-16</th>\n",
       "      <td>0.0</td>\n",
       "      <td>NaN</td>\n",
       "      <td>NaN</td>\n",
       "    </tr>\n",
       "    <tr>\n",
       "      <th>1960-04-17</th>\n",
       "      <td>0.0</td>\n",
       "      <td>NaN</td>\n",
       "      <td>NaN</td>\n",
       "    </tr>\n",
       "    <tr>\n",
       "      <th>1960-04-18</th>\n",
       "      <td>0.3</td>\n",
       "      <td>50.0</td>\n",
       "      <td>58.0</td>\n",
       "    </tr>\n",
       "  </tbody>\n",
       "</table>\n",
       "</div>"
      ],
      "text/plain": [
       "            PRCP  TMIN  TMAX\n",
       "DATE                        \n",
       "1960-04-15   0.0  53.0  86.0\n",
       "1960-04-16   0.0   NaN   NaN\n",
       "1960-04-17   0.0   NaN   NaN\n",
       "1960-04-18   0.3  50.0  58.0"
      ]
     },
     "execution_count": 11,
     "metadata": {},
     "output_type": "execute_result"
    }
   ],
   "source": [
    "weather.loc['1960-04-15':'1960-04-18']"
   ]
  },
  {
   "cell_type": "code",
   "execution_count": 12,
   "id": "93ac265c-a3c6-4c2c-992a-a5effa8f12cd",
   "metadata": {},
   "outputs": [],
   "source": [
    "#Because there is no consistency in missing values in 'TMIN' and 'TMAX' columns i will use ffill method\n",
    "weather = weather.fillna(method = 'ffill')"
   ]
  },
  {
   "cell_type": "code",
   "execution_count": 13,
   "id": "78b06272-1d44-49a9-9b9f-f943c9ef0751",
   "metadata": {},
   "outputs": [
    {
     "data": {
      "text/plain": [
       "PRCP    0\n",
       "TMIN    0\n",
       "TMAX    0\n",
       "dtype: int64"
      ]
     },
     "execution_count": 13,
     "metadata": {},
     "output_type": "execute_result"
    }
   ],
   "source": [
    "weather.apply(pd.isnull).sum()"
   ]
  },
  {
   "cell_type": "code",
   "execution_count": 14,
   "id": "59df3068-1e1e-40c7-9da7-94790e130750",
   "metadata": {},
   "outputs": [
    {
     "data": {
      "text/plain": [
       "Index(['1960-04-01', '1960-04-02', '1960-04-03', '1960-04-04', '1960-04-05',\n",
       "       '1960-04-06', '1960-04-07', '1960-04-08', '1960-04-09', '1960-04-10',\n",
       "       ...\n",
       "       '2023-06-08', '2023-06-09', '2023-06-10', '2023-06-11', '2023-06-12',\n",
       "       '2023-06-13', '2023-06-14', '2023-06-15', '2023-06-16', '2023-06-17'],\n",
       "      dtype='object', name='DATE', length=22554)"
      ]
     },
     "execution_count": 14,
     "metadata": {},
     "output_type": "execute_result"
    }
   ],
   "source": [
    "#I am checking data type of index\n",
    "weather.index"
   ]
  },
  {
   "cell_type": "code",
   "execution_count": 15,
   "id": "4d77d111-01d9-435c-8731-eed0c8b5eb08",
   "metadata": {},
   "outputs": [],
   "source": [
    "#I am changing data type to date format to be able to proceed more formulas in further steps\n",
    "weather.index = pd.to_datetime(weather.index)"
   ]
  },
  {
   "cell_type": "code",
   "execution_count": 16,
   "id": "ce1e83af-3261-45ad-a8a5-8ddb85d80cdc",
   "metadata": {},
   "outputs": [
    {
     "data": {
      "text/plain": [
       "DatetimeIndex(['1960-04-01', '1960-04-02', '1960-04-03', '1960-04-04',\n",
       "               '1960-04-05', '1960-04-06', '1960-04-07', '1960-04-08',\n",
       "               '1960-04-09', '1960-04-10',\n",
       "               ...\n",
       "               '2023-06-08', '2023-06-09', '2023-06-10', '2023-06-11',\n",
       "               '2023-06-12', '2023-06-13', '2023-06-14', '2023-06-15',\n",
       "               '2023-06-16', '2023-06-17'],\n",
       "              dtype='datetime64[ns]', name='DATE', length=22554, freq=None)"
      ]
     },
     "execution_count": 16,
     "metadata": {},
     "output_type": "execute_result"
    }
   ],
   "source": [
    "weather.index"
   ]
  },
  {
   "cell_type": "code",
   "execution_count": 19,
   "id": "468b03ed-097e-49d0-8724-25185a6db0e3",
   "metadata": {},
   "outputs": [],
   "source": [
    "#I am creating 'target' column which represent max temperature for the next day. That column will be necessary for predicting future temperature\n",
    "weather['target'] = weather.shift(-1)['TMAX']"
   ]
  },
  {
   "cell_type": "code",
   "execution_count": 21,
   "id": "463dfe2c-f026-4d47-bdf1-f6e12481371c",
   "metadata": {},
   "outputs": [
    {
     "data": {
      "text/html": [
       "<div>\n",
       "<style scoped>\n",
       "    .dataframe tbody tr th:only-of-type {\n",
       "        vertical-align: middle;\n",
       "    }\n",
       "\n",
       "    .dataframe tbody tr th {\n",
       "        vertical-align: top;\n",
       "    }\n",
       "\n",
       "    .dataframe thead th {\n",
       "        text-align: right;\n",
       "    }\n",
       "</style>\n",
       "<table border=\"1\" class=\"dataframe\">\n",
       "  <thead>\n",
       "    <tr style=\"text-align: right;\">\n",
       "      <th></th>\n",
       "      <th>PRCP</th>\n",
       "      <th>TMIN</th>\n",
       "      <th>TMAX</th>\n",
       "      <th>target</th>\n",
       "    </tr>\n",
       "    <tr>\n",
       "      <th>DATE</th>\n",
       "      <th></th>\n",
       "      <th></th>\n",
       "      <th></th>\n",
       "      <th></th>\n",
       "    </tr>\n",
       "  </thead>\n",
       "  <tbody>\n",
       "    <tr>\n",
       "      <th>1960-04-01</th>\n",
       "      <td>0.03</td>\n",
       "      <td>47.0</td>\n",
       "      <td>71.0</td>\n",
       "      <td>71.0</td>\n",
       "    </tr>\n",
       "    <tr>\n",
       "      <th>1960-04-02</th>\n",
       "      <td>1.36</td>\n",
       "      <td>47.0</td>\n",
       "      <td>71.0</td>\n",
       "      <td>71.0</td>\n",
       "    </tr>\n",
       "    <tr>\n",
       "      <th>1960-04-03</th>\n",
       "      <td>0.00</td>\n",
       "      <td>47.0</td>\n",
       "      <td>71.0</td>\n",
       "      <td>70.0</td>\n",
       "    </tr>\n",
       "    <tr>\n",
       "      <th>1960-04-04</th>\n",
       "      <td>0.00</td>\n",
       "      <td>47.0</td>\n",
       "      <td>70.0</td>\n",
       "      <td>48.0</td>\n",
       "    </tr>\n",
       "    <tr>\n",
       "      <th>1960-04-05</th>\n",
       "      <td>1.75</td>\n",
       "      <td>42.0</td>\n",
       "      <td>48.0</td>\n",
       "      <td>52.0</td>\n",
       "    </tr>\n",
       "    <tr>\n",
       "      <th>...</th>\n",
       "      <td>...</td>\n",
       "      <td>...</td>\n",
       "      <td>...</td>\n",
       "      <td>...</td>\n",
       "    </tr>\n",
       "    <tr>\n",
       "      <th>2023-06-13</th>\n",
       "      <td>0.00</td>\n",
       "      <td>52.0</td>\n",
       "      <td>81.0</td>\n",
       "      <td>82.0</td>\n",
       "    </tr>\n",
       "    <tr>\n",
       "      <th>2023-06-14</th>\n",
       "      <td>0.03</td>\n",
       "      <td>60.0</td>\n",
       "      <td>82.0</td>\n",
       "      <td>84.0</td>\n",
       "    </tr>\n",
       "    <tr>\n",
       "      <th>2023-06-15</th>\n",
       "      <td>0.00</td>\n",
       "      <td>51.0</td>\n",
       "      <td>84.0</td>\n",
       "      <td>82.0</td>\n",
       "    </tr>\n",
       "    <tr>\n",
       "      <th>2023-06-16</th>\n",
       "      <td>0.13</td>\n",
       "      <td>55.0</td>\n",
       "      <td>82.0</td>\n",
       "      <td>84.0</td>\n",
       "    </tr>\n",
       "    <tr>\n",
       "      <th>2023-06-17</th>\n",
       "      <td>0.00</td>\n",
       "      <td>59.0</td>\n",
       "      <td>84.0</td>\n",
       "      <td>NaN</td>\n",
       "    </tr>\n",
       "  </tbody>\n",
       "</table>\n",
       "<p>22554 rows × 4 columns</p>\n",
       "</div>"
      ],
      "text/plain": [
       "            PRCP  TMIN  TMAX  target\n",
       "DATE                                \n",
       "1960-04-01  0.03  47.0  71.0    71.0\n",
       "1960-04-02  1.36  47.0  71.0    71.0\n",
       "1960-04-03  0.00  47.0  71.0    70.0\n",
       "1960-04-04  0.00  47.0  70.0    48.0\n",
       "1960-04-05  1.75  42.0  48.0    52.0\n",
       "...          ...   ...   ...     ...\n",
       "2023-06-13  0.00  52.0  81.0    82.0\n",
       "2023-06-14  0.03  60.0  82.0    84.0\n",
       "2023-06-15  0.00  51.0  84.0    82.0\n",
       "2023-06-16  0.13  55.0  82.0    84.0\n",
       "2023-06-17  0.00  59.0  84.0     NaN\n",
       "\n",
       "[22554 rows x 4 columns]"
      ]
     },
     "execution_count": 21,
     "metadata": {},
     "output_type": "execute_result"
    }
   ],
   "source": [
    "weather"
   ]
  },
  {
   "cell_type": "code",
   "execution_count": 22,
   "id": "bffadf8b-2306-4823-abed-236e0dd1a376",
   "metadata": {},
   "outputs": [],
   "source": [
    "#There is null value in the last day in that dataset, so i am removing that row \n",
    "weather = weather.drop(weather.index[-1])"
   ]
  },
  {
   "cell_type": "code",
   "execution_count": 24,
   "id": "71074446-8f2b-437d-8a2e-f6d54695e780",
   "metadata": {},
   "outputs": [
    {
     "data": {
      "text/plain": [
       "<Axes: xlabel='DATE'>"
      ]
     },
     "execution_count": 24,
     "metadata": {},
     "output_type": "execute_result"
    },
    {
     "data": {
      "image/png": "[encoded data removed]",
      "text/plain": [
       "<Figure size 640x480 with 1 Axes>"
      ]
     },
     "metadata": {},
     "output_type": "display_data"
    }
   ],
   "source": [
    "weather[['TMIN', 'TMAX']].plot()"
   ]
  },
  {
   "cell_type": "code",
   "execution_count": 31,
   "id": "31523ae1-780e-420b-8ff8-907130295139",
   "metadata": {},
   "outputs": [],
   "source": [
    "#I used the ridge regression model because it effectively addresses potential multicollinearity issues\n",
    "from sklearn.linear_model import Ridge\n",
    "reg = Ridge(alpha=.1)"
   ]
  },
  {
   "cell_type": "code",
   "execution_count": 27,
   "id": "ed0b5c1a-8714-4d36-9768-3d804c42f703",
   "metadata": {},
   "outputs": [],
   "source": [
    "#At the begging I will be using only 3 predictors that are already in dataframe, also i am splitting df into 2 groups - training group and testing one\n",
    "predictors = ['PRCP', 'TMIN', 'TMAX']\n",
    "train = weather.loc[:'2020-12-31']\n",
    "test = weather.loc['2021-01-01':]"
   ]
  },
  {
   "cell_type": "code",
   "execution_count": 32,
   "id": "97e5e258-f9a7-47d4-b613-25d60d1bad19",
   "metadata": {},
   "outputs": [
    {
     "data": {
      "text/html": [
       "<style>#sk-container-id-2 {color: black;background-color: white;}#sk-container-id-2 pre{padding: 0;}#sk-container-id-2 div.sk-toggleable {background-color: white;}#sk-container-id-2 label.sk-toggleable__label {cursor: pointer;display: block;width: 100%;margin-bottom: 0;padding: 0.3em;box-sizing: border-box;text-align: center;}#sk-container-id-2 label.sk-toggleable__label-arrow:before {content: \"▸\";float: left;margin-right: 0.25em;color: #696969;}#sk-container-id-2 label.sk-toggleable__label-arrow:hover:before {color: black;}#sk-container-id-2 div.sk-estimator:hover label.sk-toggleable__label-arrow:before {color: black;}#sk-container-id-2 div.sk-toggleable__content {max-height: 0;max-width: 0;overflow: hidden;text-align: left;background-color: #f0f8ff;}#sk-container-id-2 div.sk-toggleable__content pre {margin: 0.2em;color: black;border-radius: 0.25em;background-color: #f0f8ff;}#sk-container-id-2 input.sk-toggleable__control:checked~div.sk-toggleable__content {max-height: 200px;max-width: 100%;overflow: auto;}#sk-container-id-2 input.sk-toggleable__control:checked~label.sk-toggleable__label-arrow:before {content: \"▾\";}#sk-container-id-2 div.sk-estimator input.sk-toggleable__control:checked~label.sk-toggleable__label {background-color: #d4ebff;}#sk-container-id-2 div.sk-label input.sk-toggleable__control:checked~label.sk-toggleable__label {background-color: #d4ebff;}#sk-container-id-2 input.sk-hidden--visually {border: 0;clip: rect(1px 1px 1px 1px);clip: rect(1px, 1px, 1px, 1px);height: 1px;margin: -1px;overflow: hidden;padding: 0;position: absolute;width: 1px;}#sk-container-id-2 div.sk-estimator {font-family: monospace;background-color: #f0f8ff;border: 1px dotted black;border-radius: 0.25em;box-sizing: border-box;margin-bottom: 0.5em;}#sk-container-id-2 div.sk-estimator:hover {background-color: #d4ebff;}#sk-container-id-2 div.sk-parallel-item::after {content: \"\";width: 100%;border-bottom: 1px solid gray;flex-grow: 1;}#sk-container-id-2 div.sk-label:hover label.sk-toggleable__label {background-color: #d4ebff;}#sk-container-id-2 div.sk-serial::before {content: \"\";position: absolute;border-left: 1px solid gray;box-sizing: border-box;top: 0;bottom: 0;left: 50%;z-index: 0;}#sk-container-id-2 div.sk-serial {display: flex;flex-direction: column;align-items: center;background-color: white;padding-right: 0.2em;padding-left: 0.2em;position: relative;}#sk-container-id-2 div.sk-item {position: relative;z-index: 1;}#sk-container-id-2 div.sk-parallel {display: flex;align-items: stretch;justify-content: center;background-color: white;position: relative;}#sk-container-id-2 div.sk-item::before, #sk-container-id-2 div.sk-parallel-item::before {content: \"\";position: absolute;border-left: 1px solid gray;box-sizing: border-box;top: 0;bottom: 0;left: 50%;z-index: -1;}#sk-container-id-2 div.sk-parallel-item {display: flex;flex-direction: column;z-index: 1;position: relative;background-color: white;}#sk-container-id-2 div.sk-parallel-item:first-child::after {align-self: flex-end;width: 50%;}#sk-container-id-2 div.sk-parallel-item:last-child::after {align-self: flex-start;width: 50%;}#sk-container-id-2 div.sk-parallel-item:only-child::after {width: 0;}#sk-container-id-2 div.sk-dashed-wrapped {border: 1px dashed gray;margin: 0 0.4em 0.5em 0.4em;box-sizing: border-box;padding-bottom: 0.4em;background-color: white;}#sk-container-id-2 div.sk-label label {font-family: monospace;font-weight: bold;display: inline-block;line-height: 1.2em;}#sk-container-id-2 div.sk-label-container {text-align: center;}#sk-container-id-2 div.sk-container {/* jupyter's `normalize.less` sets `[hidden] { display: none; }` but bootstrap.min.css set `[hidden] { display: none !important; }` so we also need the `!important` here to be able to override the default hidden behavior on the sphinx rendered scikit-learn.org. See: https://github.com/scikit-learn/scikit-learn/issues/21755 */display: inline-block !important;position: relative;}#sk-container-id-2 div.sk-text-repr-fallback {display: none;}</style><div id=\"sk-container-id-2\" class=\"sk-top-container\"><div class=\"sk-text-repr-fallback\"><pre>Ridge(alpha=0.1)</pre><b>In a Jupyter environment, please rerun this cell to show the HTML representation or trust the notebook. <br />On GitHub, the HTML representation is unable to render, please try loading this page with nbviewer.org.</b></div><div class=\"sk-container\" hidden><div class=\"sk-item\"><div class=\"sk-estimator sk-toggleable\"><input class=\"sk-toggleable__control sk-hidden--visually\" id=\"sk-estimator-id-2\" type=\"checkbox\" checked><label for=\"sk-estimator-id-2\" class=\"sk-toggleable__label sk-toggleable__label-arrow\">Ridge</label><div class=\"sk-toggleable__content\"><pre>Ridge(alpha=0.1)</pre></div></div></div></div></div>"
      ],
      "text/plain": [
       "Ridge(alpha=0.1)"
      ]
     },
     "execution_count": 32,
     "metadata": {},
     "output_type": "execute_result"
    }
   ],
   "source": [
    "reg.fit(train[predictors], train['target'])"
   ]
  },
  {
   "cell_type": "code",
   "execution_count": 34,
   "id": "751851df-bac6-4b8f-9730-b5b0c90cd009",
   "metadata": {},
   "outputs": [],
   "source": [
    "predictions = reg.predict(test[predictors])"
   ]
  },
  {
   "cell_type": "code",
   "execution_count": 35,
   "id": "adbf8f56-a577-4421-b61a-655293c9292c",
   "metadata": {},
   "outputs": [],
   "source": [
    "#I want also to measure how my model is improving while adding new predictors\n",
    "from sklearn.metrics import mean_absolute_error"
   ]
  },
  {
   "cell_type": "code",
   "execution_count": 36,
   "id": "092bfad5-4fe2-4d9c-9746-0e7e24d617aa",
   "metadata": {},
   "outputs": [
    {
     "data": {
      "text/plain": [
       "6.14923378079251"
      ]
     },
     "execution_count": 36,
     "metadata": {},
     "output_type": "execute_result"
    }
   ],
   "source": [
    "mean_absolute_error(test['target'], predictions)"
   ]
  },
  {
   "cell_type": "code",
   "execution_count": 37,
   "id": "6276cdf2-9288-46c4-93c6-780c37fc76f8",
   "metadata": {},
   "outputs": [],
   "source": [
    "combined = pd.concat([test['target'], pd.Series(predictions, index=test.index)], axis=1)"
   ]
  },
  {
   "cell_type": "code",
   "execution_count": 40,
   "id": "93d65b97-f02c-4ddf-a8fc-868dee54fe7f",
   "metadata": {},
   "outputs": [],
   "source": [
    "def create_predictions(weather, reg, predictors):\n",
    "    train = weather.loc[:'2020-12-31']\n",
    "    test = weather.loc['2021-01-01':]\n",
    "    reg.fit(train[predictors], train['target'])\n",
    "    predictions = reg.predict(test[predictors])\n",
    "    error = mean_absolute_error(test['target'], predictions)\n",
    "    combined = pd.concat([test['target'], pd.Series(predictions, index=test.index)], axis=1)\n",
    "    combined.columns = ['actual', 'prediction']\n",
    "    return error, combined"
   ]
  },
  {
   "cell_type": "code",
   "execution_count": 41,
   "id": "6c279cc7-2584-4ddf-8c45-2bb0c33f00ee",
   "metadata": {},
   "outputs": [],
   "source": [
    "#I am creating predictor which will calculate avg temp in each month\n",
    "weather['month_avg_temp'] = weather['TMAX'].groupby(weather.index.month).apply(lambda x: x.expanding(1).mean())"
   ]
  },
  {
   "cell_type": "code",
   "execution_count": 42,
   "id": "dc647d26-fcc1-4275-8857-6c0d48425229",
   "metadata": {},
   "outputs": [],
   "source": [
    "#I am creating predictor which will calculate avg temp in each day of month\n",
    "weather['day_avg_temp'] = weather['TMAX'].groupby(weather.index.day).apply(lambda x: x.expanding(1).mean())"
   ]
  },
  {
   "cell_type": "code",
   "execution_count": 43,
   "id": "33c39536-bf13-4d25-b2d3-e651450dfea6",
   "metadata": {},
   "outputs": [],
   "source": [
    "#I am creating predictor which will calculate avg temp in last 30 days\n",
    "weather['last_30d_avg_temp'] = weather['TMAX'].rolling(30).mean()"
   ]
  },
  {
   "cell_type": "code",
   "execution_count": 44,
   "id": "4bcc38ed-942b-430a-9787-8b6a06562352",
   "metadata": {},
   "outputs": [],
   "source": [
    "#I am creating predictor which will calculate difference between avg temp in last 30 day and today temp\n",
    "weather['diff_last_30d_today_temp'] = weather['last_30d_avg_temp']/weather['TMAX']"
   ]
  },
  {
   "cell_type": "code",
   "execution_count": 45,
   "id": "bca005e8-2fb2-4899-8ade-5a2da294a39f",
   "metadata": {},
   "outputs": [],
   "source": [
    "#Because predictor 'last_30d_avg_temp' is creating rolling average from last 30 days i am removing first 30 rows from dataframe\n",
    "weather = weather.iloc[30:, :].copy()"
   ]
  },
  {
   "cell_type": "code",
   "execution_count": 46,
   "id": "22c44831-a5ad-4954-93a1-5c71f5f37f9c",
   "metadata": {},
   "outputs": [],
   "source": [
    "predictors = ['PRCP', 'TMIN', 'TMAX', 'month_avg_temp', 'day_avg_temp', 'last_30d_avg_temp', 'diff_last_30d_today_temp']"
   ]
  },
  {
   "cell_type": "code",
   "execution_count": 48,
   "id": "38aec273-31c1-4f1e-bee8-f8e2e12b188b",
   "metadata": {},
   "outputs": [
    {
     "data": {
      "text/plain": [
       "(5.69972762188949,\n",
       "             actual  prediction\n",
       " DATE                          \n",
       " 2021-01-01    56.0   39.447925\n",
       " 2021-01-02    42.0   51.486971\n",
       " 2021-01-03    44.0   42.280893\n",
       " 2021-01-04    40.0   44.012089\n",
       " 2021-01-05    41.0   41.570208\n",
       " ...            ...         ...\n",
       " 2023-06-12    81.0   79.930367\n",
       " 2023-06-13    82.0   81.839886\n",
       " 2023-06-14    84.0   82.484540\n",
       " 2023-06-15    82.0   83.635048\n",
       " 2023-06-16    84.0   82.274280\n",
       " \n",
       " [897 rows x 2 columns])"
      ]
     },
     "execution_count": 48,
     "metadata": {},
     "output_type": "execute_result"
    }
   ],
   "source": [
    "#Error is decreased by 0.45F\n",
    "create_predictions(weather, reg, predictors)"
   ]
  }
 ],
 "metadata": {
  "kernelspec": {
   "display_name": "Python 3 (ipykernel)",
   "language": "python",
   "name": "python3"
  },
  "language_info": {
   "codemirror_mode": {
    "name": "ipython",
    "version": 3
   },
   "file_extension": ".py",
   "mimetype": "text/x-python",
   "name": "python",
   "nbconvert_exporter": "python",
   "pygments_lexer": "ipython3",
   "version": "3.10.9"
  }
 },
 "nbformat": 4,
 "nbformat_minor": 5
}
